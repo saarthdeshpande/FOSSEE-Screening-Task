{
 "cells": [
  {
   "cell_type": "markdown",
   "metadata": {},
   "source": [
    "<h1 align = 'center'> Linear Algebra - Numerical Computation</h1>"
   ]
  },
  {
   "cell_type": "code",
   "execution_count": 2,
   "metadata": {},
   "outputs": [],
   "source": [
    "# Import necessary libraries\n",
    "\n",
    "import matplotlib.pyplot as plt\n",
    "import numpy as np\n",
    "%matplotlib inline"
   ]
  },
  {
   "cell_type": "markdown",
   "metadata": {},
   "source": [
    "<h1 align ='center'> Part 1 - Advanced Linear Algebra Operations</h1>"
   ]
  },
  {
   "cell_type": "code",
   "execution_count": 2,
   "metadata": {},
   "outputs": [],
   "source": [
    "# A function to print matrix in pretty format\n",
    "def matprint(mat, fmt=\"g\"): \n",
    "    col_maxes = [max([len((\"{:\"+fmt+\"}\").format(x)) for x in col]) for col in mat.T]\n",
    "    for x in mat:\n",
    "        for i, y in enumerate(x):\n",
    "            print((\"{:\"+str(col_maxes[i])+fmt+\"}\").format(y), end=\"  \")\n",
    "        print(\"\")"
   ]
  },
  {
   "cell_type": "markdown",
   "metadata": {},
   "source": [
    "# 1. Gershgorin's Theorem"
   ]
  },
  {
   "cell_type": "markdown",
   "metadata": {},
   "source": [
    "Let A be an $n x n$ matrix of real or complex numbers. For k = 1,...,n: let"
   ]
  },
  {
   "cell_type": "markdown",
   "metadata": {},
   "source": [
    "\\begin{equation}\n",
    "r_{k} = \\sum_{j=1,j≠k}^{n} |a_{kj}| \\tag{1}\n",
    "\\end{equation}"
   ]
  },
  {
   "cell_type": "markdown",
   "metadata": {},
   "source": [
    "Let $C_{k}$ be the circle of radius $r_{k}$ centered at ($a_{k}$,$b_{k }$), where $a_{kk}$ = $a_{k}$ + $ib_{k}$. Then each eigenvalue of A, when plotted as a point in the complex plane, lies on or within one of the circles $C_{1}$,...,$C_{n}$."
   ]
  },
  {
   "cell_type": "markdown",
   "metadata": {},
   "source": [
    "The circles $C_{k}$ are called Gershgorin circles. For the radius of $C_{k}$, read across row k and add the magnitudes of the row elements, omitting the diagonal element $a_{kk}$. The center of $C_{k}$ is\n",
    "$a_{kk}$, plotted as a point in the complex plane. If the Gershgorin circles are drawn and the disks they bound are shaded, then we have a picture of a region containing all of the eigenvalues of A."
   ]
  },
  {
   "cell_type": "code",
   "execution_count": 5,
   "metadata": {
    "scrolled": false
   },
   "outputs": [
    {
     "name": "stdout",
     "output_type": "stream",
     "text": [
      "Enter Size of Square Matrix: 4\n",
      "\n",
      "Row #1: \n",
      "Element #1: 12j\n",
      "Element #2: 1\n",
      "Element #3: 9\n",
      "Element #4: -4\n",
      "\n",
      "Row #2: \n",
      "Element #1: 1\n",
      "Element #2: -6\n",
      "Element #3: 1+j\n",
      "Element #4: -1\n",
      "\n",
      "Row #3: \n",
      "Element #1: 4\n",
      "Element #2: 1\n",
      "Element #3: -1\n",
      "Element #4: 4j\n",
      "\n",
      "Row #4: \n",
      "Element #1: 1-3j\n",
      "Element #2: -9\n",
      "Element #3: 1\n",
      "Element #4: 4-7j\n",
      "\n",
      "Matrix:\n",
      "\n",
      "0+12j   1+0j   9+0j  -4+0j  \n",
      " 1+0j  -6+0j   1+1j  -1+0j  \n",
      " 4+0j   1+0j  -1+0j   0+4j  \n",
      " 1-3j  -9+0j   1+0j   4-7j  \n"
     ]
    }
   ],
   "source": [
    "n = int(input('Enter Size of Square Matrix: '))\n",
    "rows = []\n",
    "for row in range(n):\n",
    "    print(\"\\nRow #{}: \".format(row + 1))\n",
    "    elements = []\n",
    "    for element in range(n):\n",
    "        complexNumber = input('Element #{}: '.format(element + 1))\n",
    "        elements.append(complex(''.join(complexNumber.split())))\n",
    "    rows.append(elements)\n",
    "rows = np.array(rows)\n",
    "print(\"\\nMatrix:\\n\")\n",
    "matprint(rows)"
   ]
  },
  {
   "cell_type": "code",
   "execution_count": 6,
   "metadata": {},
   "outputs": [
    {
     "data": {
      "image/png": "[encoded data removed]",
      "text/plain": [
       "<Figure size 432x288 with 1 Axes>"
      ]
     },
     "metadata": {
      "needs_background": "light"
     },
     "output_type": "display_data"
    },
    {
     "name": "stdout",
     "output_type": "stream",
     "text": [
      "\n",
      "Given Matrix:\n",
      "\n",
      "0+12j   1+0j   9+0j  -4+0j  \n",
      " 1+0j  -6+0j   1+1j  -1+0j  \n",
      " 4+0j   1+0j  -1+0j   0+4j  \n",
      " 1-3j  -9+0j   1+0j   4-7j  \n",
      "\n",
      "Eigenvalues of Matrix: \n",
      " [ 3.31177219-5.7791001j   1.65381459+6.78889133j -1.96469071+5.16730981j\n",
      " -6.00089608-1.17710104j]\n"
     ]
    }
   ],
   "source": [
    "def legend_without_duplicate_labels(ax):  # handle duplicated values in plot legend\n",
    "    handles, labels = ax.get_legend_handles_labels()\n",
    "    unique = [(h, l) for i, (h, l) in enumerate(zip(handles, labels)) if l not in labels[:i]]\n",
    "    ax.legend(*zip(*unique))\n",
    "    \n",
    "circleCentres = []\n",
    "circleRadii = []\n",
    "for index in range(n):\n",
    "    circleCentres.append((np.array(rows)[index][index].real,np.array(rows)[index][index].imag))\n",
    "    circleRadii.append(abs(([np.array(rows)[index][element] for element in range(n) if element != index][0])))\n",
    "\n",
    "fig, axes = plt.subplots()\n",
    "    \n",
    "for index in range(n):  # plot circles and their centres\n",
    "    circle = plt.Circle((circleCentres[index]),circleRadii[index],fill=False,hatch ='/')\n",
    "    plt.plot(circleCentres[index][0],circleCentres[index][1],'bo',color='blue',label='Centres')\n",
    "    axes.add_patch(circle)\n",
    "    \n",
    "plt.xlim(-15,15)\n",
    "plt.ylim(-15,15)\n",
    "\n",
    "eigenvalues = np.linalg.eigvals(rows)   # store eigenvalues of matrix\n",
    "for eigenvalue in eigenvalues:   # plot eigenvalue points, to show where they lie\n",
    "    plt.plot(eigenvalue.real,eigenvalue.imag,'bo',color='red',label='Eigenvalues')\n",
    "    \n",
    "legend_without_duplicate_labels(axes)\n",
    "\n",
    "plt.grid()\n",
    "plt.show()\n",
    "\n",
    "print(\"\\nGiven Matrix:\\n\")\n",
    "matprint(rows)\n",
    "print(\"\\nEigenvalues of Matrix: \\n\",eigenvalues)"
   ]
  },
  {
   "cell_type": "markdown",
   "metadata": {},
   "source": [
    "Gershgorin's theorem is not intended as an approximation scheme, since the Gershgorin circles may have large radii. For some problems, however, just knowing some information about possible locations of eigenvalues can be important. For example, in studies of the stability of fluid flow, it is important to know whether there are eigenvalues in the right half-plane."
   ]
  },
  {
   "cell_type": "markdown",
   "metadata": {},
   "source": [
    "# 2. Quadratic Parabola by Least Squares Method"
   ]
  },
  {
   "cell_type": "markdown",
   "metadata": {},
   "source": [
    "Our method of curve fitting can be generalized from a polynomial y = a + bx to a polynomial of degree m."
   ]
  },
  {
   "cell_type": "markdown",
   "metadata": {},
   "source": [
    "\\begin{equation}\n",
    "p(x) = b_{0} + b_{1}x + ... + b_{m}x^{m} \\tag{2}\n",
    "\\end{equation}"
   ]
  },
  {
   "cell_type": "markdown",
   "metadata": {},
   "source": [
    "where m ≤ n - 1. Then q takes the form:"
   ]
  },
  {
   "cell_type": "markdown",
   "metadata": {},
   "source": [
    "\\begin{equation}\n",
    "q = \\sum_{j=1}^{n}(y_{j} - p(x_{j}))^{2} \\tag{3}\n",
    "\\end{equation}"
   ]
  },
  {
   "cell_type": "markdown",
   "metadata": {},
   "source": [
    "The normal equations (summation 1 to n) are:"
   ]
  },
  {
   "cell_type": "markdown",
   "metadata": {},
   "source": [
    "\\begin{equation}\n",
    "b_{0}n + b_{1} \\sum x_{j} + b_{2} \\sum x_{j}^{2} = \\sum y_{j} \\tag{4}\n",
    "\\end{equation}\n",
    "\n",
    "\\begin{equation}\n",
    "b_{0} \\sum x_{j} + b_{1} \\sum x_{j}^{2} + b_{2} \\sum x_{j}^{3} = \\sum x_{j}y_{j} \\tag{5}\n",
    "\\end{equation}\n",
    "\n",
    "\\begin{equation}\n",
    "b_{0} \\sum x_{j}^{2} + b_{1} \\sum x_{j}^{3} + b_{2} \\sum x_{j}^{4} = \\sum x_{j}^{2}y_{j} \\tag{6}\n",
    "\\end{equation}"
   ]
  },
  {
   "cell_type": "code",
   "execution_count": 7,
   "metadata": {
    "scrolled": false
   },
   "outputs": [
    {
     "name": "stdout",
     "output_type": "stream",
     "text": [
      "Number of Points: 5\n",
      "Point #1: 0 5\n",
      "Point #2: 2 4\n",
      "Point #3: 4 1\n",
      "Point #4: 6 6\n",
      "Point #5: 8 7\n"
     ]
    },
    {
     "data": {
      "image/png": "[encoded data removed]",
      "text/plain": [
       "<Figure size 432x288 with 1 Axes>"
      ]
     },
     "metadata": {
      "needs_background": "light"
     },
     "output_type": "display_data"
    },
    {
     "name": "stdout",
     "output_type": "stream",
     "text": [
      "Equation of Parabola: y = 5.114285714285742 + -1.4142857142857075x + 0.21428571428571308x^2\n"
     ]
    }
   ],
   "source": [
    "n = int(input('Number of Points: '))\n",
    "if n < 3:\n",
    "    print('At least 3 points required.')\n",
    "else:\n",
    "    points = []\n",
    "    for point in range(n):  # take all points input from user\n",
    "        points.append(tuple(map(float,input('Point #{}: '.format(point + 1)).split())))\n",
    "    row1 = np.array([n,np.transpose(np.array(points))[0].sum(),(np.transpose(np.array(points))[0]**2).sum()])\n",
    "    row2 = np.array([np.transpose(np.array(points))[0].sum(),(np.transpose(np.array(points))[0]**2).sum(),(np.transpose(np.array(points))[0]**3).sum()])\n",
    "    row3 = np.array([(np.transpose(np.array(points))[0]**2).sum(),(np.transpose(np.array(points))[0]**3).sum(),(np.transpose(np.array(points))[0]**4).sum()])\n",
    "    # LHS of all three normal equations    \n",
    "    \n",
    "    matrix = np.concatenate([row1,row2,row3]).reshape(3,3) # matrix representing normal equations\n",
    "    matrix = np.linalg.inv(matrix)  # take matrix to RHS, i.e., invert\n",
    "    \n",
    "    RHS_matrix = np.array([np.transpose(np.array(points))[1].sum(),np.matmul(np.transpose(np.array(points))[0],np.transpose(np.array(points))[1]),np.matmul(np.transpose(np.array(points))[0]**2,np.transpose(np.array(points))[1])])\n",
    "    # RHS of normal equations\n",
    "    \n",
    "    coefficients = np.matmul(matrix,RHS_matrix)\n",
    "    \n",
    "    a= []\n",
    "    b = []\n",
    "    \n",
    "    for x in range(-7,15,1):\n",
    "        y = coefficients[0] + coefficients[1]*x + coefficients[2]*(x**2)\n",
    "        a.append(x)\n",
    "        b.append(y)\n",
    "    fig = plt.figure()\n",
    "    axes = fig.add_subplot(111)\n",
    "    axes.plot(a,b)\n",
    "    plt.plot(np.array(points).transpose()[0],np.array(points).transpose()[1],'bo')\n",
    "    plt.title('Quadratic Parabola by Least Squares Method')\n",
    "    plt.show()\n",
    "    print(\"Equation of Parabola: y = {} + {}x + {}x^2\".format(coefficients[0],coefficients[1],coefficients[2]))"
   ]
  },
  {
   "cell_type": "markdown",
   "metadata": {},
   "source": [
    "# 3. Singular Value Decomposition (SVD)"
   ]
  },
  {
   "cell_type": "markdown",
   "metadata": {},
   "source": [
    "The singular value decomposition of a matrix A is the factorization of A into the\n",
    "product of three matrices A = $UDV^{T}$ where the columns of U and V are orthonormal and\n",
    "the matrix D is diagonal with positive real entries."
   ]
  },
  {
   "cell_type": "markdown",
   "metadata": {},
   "source": [
    "Let A be an $n×d$ matrix with singular vectors $v_{1}, v_{2},..., v_{r}$ and corresponding singular values $σ_{1}, σ_{2},..., σ_{r}$. Then $u_{i}$ = $\\frac{1}σ_{i}Av_{i}$, for i = 1, 2,..., r, are the left singular vectors and A can be decomposed into a sum of rank one matrices as"
   ]
  },
  {
   "cell_type": "markdown",
   "metadata": {},
   "source": [
    "\\begin{equation} \n",
    "A = \\sum_{i=1}^{r}σ_{i}u_{i}v_{i}^{T} \\tag{7}\n",
    "\\end{equation}"
   ]
  },
  {
   "attachments": {
    "image.png": {
     "image/png": "[encoded data removed]"
    }
   },
   "cell_type": "markdown",
   "metadata": {},
   "source": [
    "![image.png](attachment:image.png)"
   ]
  },
  {
   "cell_type": "code",
   "execution_count": 11,
   "metadata": {
    "scrolled": false
   },
   "outputs": [
    {
     "name": "stdout",
     "output_type": "stream",
     "text": [
      "Enter Number of Rows: 3\n",
      "\n",
      "Row #1: 1 1\n",
      "\n",
      "Row #2: 0 1\n",
      "\n",
      "Row #3: -1 1\n",
      "\n",
      "Left Singular Matrix (U):\n",
      "\n",
      "-0.57735  -0.707107   0.408248  \n",
      "-0.57735          0  -0.816497  \n",
      "-0.57735   0.707107   0.408248  \n",
      "\n",
      "Diagonal Matrix (D):\n",
      "\n",
      "1.73205        0  \n",
      "      0  1.41421  \n",
      "      0        0  \n",
      "\n",
      "Right Singular Matrix (V^T):\n",
      "\n",
      "-0  -1  \n",
      "-1  -0  \n"
     ]
    }
   ],
   "source": [
    "rows = int(input(\"Enter Number of Rows: \"))\n",
    "A = []\n",
    "for row in range(rows):\n",
    "    A.append(list(map(float,input('\\nRow #{}: '.format(row + 1)).split())))\n",
    "A = np.array(A)\n",
    "\n",
    "SVD = np.linalg.svd(A)\n",
    "print('\\nLeft Singular Matrix (U):\\n')\n",
    "matprint(SVD[0])\n",
    "print('\\nDiagonal Matrix (D):\\n')\n",
    "matprint(np.matmul(np.identity(10)[:A.shape[0],:A.shape[1]],np.diag(SVD[1])))\n",
    "print('\\nRight Singular Matrix (V^T):\\n')\n",
    "matprint(SVD[2])"
   ]
  },
  {
   "cell_type": "markdown",
   "metadata": {},
   "source": [
    "# 4. Straight Line by Least Squares Method"
   ]
  },
  {
   "cell_type": "markdown",
   "metadata": {},
   "source": [
    "The straight line y = a + bx should be fitted through the given points ($x_{1}$,$y_{1}$),($x_{2}$,$y_{2}$),...,($x_{n}$,$y_{n}$) so that the sum of the squares of the distances of those points from the straight line is minimum, where the distance is measured in the vertical direction (the y-direction)."
   ]
  },
  {
   "cell_type": "markdown",
   "metadata": {},
   "source": [
    "The point on the line with abscissa $x_{j}$ has the ordinate $a + bx_{j}$ Hence its distance from ($x_{j}$,$y_{j}$) is $|y_{j} - a - bx_{j}|$ and that sum of squares is:"
   ]
  },
  {
   "cell_type": "markdown",
   "metadata": {},
   "source": [
    "\\begin{equation}\n",
    "q = \\sum_{j=1}^{n}(y_{j}-a-bx_{j})^{2} \\tag{8}\n",
    "\\end{equation}"
   ]
  },
  {
   "cell_type": "markdown",
   "metadata": {},
   "source": [
    "A necessary condition for q to be minimum is:"
   ]
  },
  {
   "cell_type": "markdown",
   "metadata": {},
   "source": [
    "\\begin{equation}\n",
    "\\frac {\\partial q}{\\partial a} = -2\\sum(y_{j}-a-bx_{j})=0 \\tag{9}\n",
    "\\end{equation}\n",
    "\n",
    "\\begin{equation}\n",
    "\\frac {\\partial q}{\\partial b} = -2\\sum x_{j}(y_{j}-a-bx_{j})=0 \\tag{10}\n",
    "\\end{equation}"
   ]
  },
  {
   "cell_type": "markdown",
   "metadata": {},
   "source": [
    "Writing each sum as three sums, and taking one of them to the right, we obtain the result:"
   ]
  },
  {
   "cell_type": "markdown",
   "metadata": {},
   "source": [
    "\\begin{equation}\n",
    "an + b \\sum x_{j} = \\sum y_{j} \\tag{11}\n",
    "\\end{equation}\n",
    "\n",
    "\\begin{equation}\n",
    "a \\sum x_{j} + b \\sum x_{j}^{2} = \\sum x_{j}y_{j} \\tag{12}\n",
    "\\end{equation}"
   ]
  },
  {
   "cell_type": "markdown",
   "metadata": {},
   "source": [
    "These equations are called the normal equations of our problem."
   ]
  },
  {
   "attachments": {
    "image.png": {
     "image/png": "[encoded data removed]"
    }
   },
   "cell_type": "markdown",
   "metadata": {},
   "source": [
    "![image.png](attachment:image.png)"
   ]
  },
  {
   "cell_type": "code",
   "execution_count": 10,
   "metadata": {
    "scrolled": false
   },
   "outputs": [
    {
     "name": "stdout",
     "output_type": "stream",
     "text": [
      "Number of Points: 4\n",
      "Point #1: -1.3 0.103\n",
      "Point #2: -0.1 1.099\n",
      "Point #3: 0.2 0.808\n",
      "Point #4: 1.3 1.897\n"
     ]
    },
    {
     "data": {
      "image/png": "[encoded data removed]",
      "text/plain": [
       "<Figure size 432x288 with 1 Axes>"
      ]
     },
     "metadata": {
      "needs_background": "light"
     },
     "output_type": "display_data"
    },
    {
     "name": "stdout",
     "output_type": "stream",
     "text": [
      "Equation of Line: y = 0.6670240700218817x + 0.9600743982494531\n"
     ]
    }
   ],
   "source": [
    "n = int(input('Number of Points: '))\n",
    "if n < 2:\n",
    "    print('At least 2 points required.')\n",
    "else:\n",
    "    points = []\n",
    "    for point in range(n): # take all points input from user\n",
    "        points.append(tuple(map(float,input('Point #{}: '.format(point + 1)).split())))\n",
    "        \n",
    "    row1 = np.array([n,np.transpose(np.array(points))[0].sum()]) # LHS of first normal equation\n",
    "    row2 = np.array([np.transpose(np.array(points))[0].sum(),(np.transpose(np.array(points))[0]**2).sum()])\n",
    "    # LHS of second normal equation\n",
    "    \n",
    "    matrix = np.concatenate([row1,row2]).reshape(2,2)  # matrix representing both normal equations\n",
    "    matrix = np.linalg.inv(matrix)  # take to RHS, i.e., invert\n",
    "    \n",
    "    RHS_matrix = np.array([np.transpose(np.array(points))[1].sum(),np.matmul(np.transpose(np.array(points))[0],np.transpose(np.array(points))[1])])\n",
    "    # RHS of both normal equations\n",
    "        \n",
    "    coefficients = np.matmul(matrix,RHS_matrix) # product of inverted matrix and RHS matrix will give coefficients\n",
    "    \n",
    "    a= []\n",
    "    b = []\n",
    "    \n",
    "    for x in range(-5,15,1):\n",
    "        y = coefficients[0] + coefficients[1]*x\n",
    "        a.append(x)\n",
    "        b.append(y)\n",
    "    fig = plt.figure()\n",
    "    axes = fig.add_subplot(111)\n",
    "    axes.plot(a,b)\n",
    "    plt.plot(np.array(points).transpose()[0],np.array(points).transpose()[1],'bo')\n",
    "    plt.title('Straight Line by Least Squares Method')\n",
    "    plt.show()\n",
    "    print('Equation of Line: y = {}x + {}'.format(coefficients[1],coefficients[0]))"
   ]
  },
  {
   "cell_type": "markdown",
   "metadata": {},
   "source": [
    "# 5. Validating Triangle Inequality of Norm of an n-Vector"
   ]
  },
  {
   "cell_type": "markdown",
   "metadata": {},
   "source": [
    "The Euclidean norm of an n-vector x (named after the Greek mathematician Euclid), denoted ||x||, is the squareroot of the sum of the squares of its elements.\n",
    "Other less widely used terms for the Euclidean norm of a vector are the magnitude, or length, of a vector.\n",
    "When x is a scalar, i.e., a 1-vector, the Euclidean norm is the same as the absolute value of x."
   ]
  },
  {
   "cell_type": "markdown",
   "metadata": {},
   "source": [
    "The Euclidean norm can be considered a generalization or extension of the absolute value or magnitude, that applies to vectors. The double bar notation is meant to suggest this."
   ]
  },
  {
   "cell_type": "markdown",
   "metadata": {},
   "source": [
    "Properties of Norm:\n",
    "    \n",
    "1. Non-negative homogeneity, i.e., ||kx|| = |k| ||x||, where k is a scalar.\n",
    "2. Triangle inequality, i.e., ||x + y|| ≤ ||x|| + ||y||\n",
    "3. Non-negativity, i.e., ||x|| ≥ 0\n",
    "4. Definiteness, i.e., ||x|| = 0 only if x = 0"
   ]
  },
  {
   "cell_type": "markdown",
   "metadata": {},
   "source": [
    "A useful formula for the norm of the sum of two vectors x and y is:"
   ]
  },
  {
   "cell_type": "markdown",
   "metadata": {},
   "source": [
    "\\begin{equation}\n",
    "||x + y|| = \\sqrt {||x||^{2} + 2x^{T}y + ||y||^{2}} \\tag{13}\n",
    "\\end{equation}"
   ]
  },
  {
   "cell_type": "markdown",
   "metadata": {},
   "source": [
    "\n",
    "To validate: \\begin{equation}\n",
    "||x + y|| ≤ ||x|| + ||y|| \\tag{14}\n",
    "\\end{equation}"
   ]
  },
  {
   "cell_type": "code",
   "execution_count": 7,
   "metadata": {},
   "outputs": [
    {
     "name": "stdout",
     "output_type": "stream",
     "text": [
      "Vector 1: 1 2\n",
      "Vector 2: 3 4\n",
      "\n",
      "Let v = (v1 + v2),hence norm of v = ||v|| = 7.211102550927978\n",
      "\n",
      "||v1|| = 2.23606797749979\n",
      "\n",
      "||v2|| = 5.0\n",
      "\n",
      "Hence,we have validated that the Euclidean norm of a sum of two vectors is no more than the sum of their norms, i.e.,||x + y|| ≤ ||x|| + ||y||\n"
     ]
    }
   ],
   "source": [
    "v1 = np.array(list(map(int,input('Vector 1: ').split())))\n",
    "v2 = np.array(list(map(int,input('Vector 2: ').split())))\n",
    "\n",
    "_x_ = np.sqrt(np.matmul(v1,v1.transpose())) # norm of v1\n",
    "_y_ = np.sqrt(np.matmul(v2,v2.transpose())) # norm of v2\n",
    "\n",
    "print('\\nLet v = (v1 + v2),hence norm of v = ||v|| =',np.sqrt((np.square(_x_) + np.square(_y_) + 2*np.matmul(v1.transpose(),v2))))\n",
    "print('\\n||v1|| =',_x_)\n",
    "print('\\n||v2|| =',_y_)\n",
    "print('\\nHence,we have validated that the Euclidean norm of a sum of two vectors is no more than the sum of their norms, i.e.,||x + y|| ≤ ||x|| + ||y||')"
   ]
  },
  {
   "cell_type": "markdown",
   "metadata": {},
   "source": [
    "<h1 align ='center'> Part 2 - Plot New Basis for 2D Matrix</h3>"
   ]
  },
  {
   "cell_type": "code",
   "execution_count": 12,
   "metadata": {},
   "outputs": [],
   "source": [
    "# Set default basis for 2D matrix\n",
    "\n",
    "e1 = np.array([1,0])\n",
    "e2 = np.array([0,1])\n",
    "basis = np.concatenate((e1,e2)).reshape((len(e1),2))"
   ]
  },
  {
   "cell_type": "code",
   "execution_count": 13,
   "metadata": {},
   "outputs": [
    {
     "name": "stdout",
     "output_type": "stream",
     "text": [
      "Enter New Basis Vectors:\n",
      "\n",
      "Vector 1: 2 1\n",
      "Vector 2: 1 2\n"
     ]
    }
   ],
   "source": [
    "# Take new basis vectors' input so as to define new basis\n",
    "\n",
    "print('Enter New Basis Vectors:\\n')\n",
    "v1 = np.array(list(map(int,input('Vector 1: ').split())))\n",
    "v2 = np.array(list(map(int,input('Vector 2: ').split())))\n",
    "newBasis = np.concatenate((v1,v2)).reshape(2,2).transpose()"
   ]
  },
  {
   "cell_type": "code",
   "execution_count": 14,
   "metadata": {
    "scrolled": false
   },
   "outputs": [
    {
     "name": "stdout",
     "output_type": "stream",
     "text": [
      "Enter Coordinates of Point: 3 2\n"
     ]
    },
    {
     "data": {
      "text/plain": [
       "<matplotlib.legend.Legend at 0x7fc236e15160>"
      ]
     },
     "execution_count": 14,
     "metadata": {},
     "output_type": "execute_result"
    },
    {
     "data": {
      "image/png": "[encoded data removed]",
      "text/plain": [
       "<Figure size 432x288 with 1 Axes>"
      ]
     },
     "metadata": {
      "needs_background": "light"
     },
     "output_type": "display_data"
    }
   ],
   "source": [
    "# Take a point whose coordinates with respect to new basis are known\n",
    "# Find coordinates of same point with respect to default basis\n",
    "\n",
    "defaultBasisPoint = np.array(list(map(int,input('Enter Coordinates of Point: ').split())))\n",
    "newBasisPoint = np.matmul(newBasis,defaultBasisPoint)\n",
    "\n",
    "# Select x and y coordinates of point from NumPy arrays to prepare for plotting\n",
    "# Plot point with respect to both bases\n",
    "\n",
    "xOld = defaultBasisPoint[0]\n",
    "yOld = defaultBasisPoint[1]\n",
    "xNew = newBasisPoint[0]\n",
    "yNew = newBasisPoint[1]\n",
    "\n",
    "plt.plot(xOld,yOld,'bo')\n",
    "plt.plot(xNew,yNew,'bo',color='red')\n",
    "\n",
    "V = np.array([v1,v2])\n",
    "origin = [0], [0]\n",
    "\n",
    "plt.quiver(*origin, V[:,0], V[:,1], color=['g','g'], scale = 15)  # Basis vectors\n",
    "\n",
    "plt.xlim(0,10)   # Range of x to show on graph\n",
    "plt.ylim(0,10)   # Range of y to show on graph\n",
    "\n",
    "plt.text(xOld+0.1,yOld-0.8,f\"v({xOld},{yOld})\",fontsize = 15)\n",
    "plt.text(xNew+0.1,yNew+0.1,f\"Av({xNew},{yNew})\",fontsize = 15)\n",
    "\n",
    "plt.title('Change of Basis for 2D Matrix')\n",
    "\n",
    "plt.legend(['Default Basis','New Basis','Basis Vectors'])"
   ]
  },
  {
   "cell_type": "markdown",
   "metadata": {},
   "source": [
    "<h1 align = 'center'> References </h1>"
   ]
  },
  {
   "cell_type": "markdown",
   "metadata": {},
   "source": [
    "1. Advanced Engineering Mathematics (10th Edition) - Erwin Kreyszig\n",
    "2. Advanced Engineering Mathematics - Peter V. O'Neil\n",
    "3. MIT OpenCourseWare\n",
    "4. Linear Algebra (Second Edition) - V. Sahai, V. Bist"
   ]
  }
 ],
 "metadata": {
  "kernelspec": {
   "display_name": "Python 3",
   "language": "python",
   "name": "python3"
  },
  "language_info": {
   "codemirror_mode": {
    "name": "ipython",
    "version": 3
   },
   "file_extension": ".py",
   "mimetype": "text/x-python",
   "name": "python",
   "nbconvert_exporter": "python",
   "pygments_lexer": "ipython3",
   "version": "3.6.7"
  }
 },
 "nbformat": 4,
 "nbformat_minor": 4
}
